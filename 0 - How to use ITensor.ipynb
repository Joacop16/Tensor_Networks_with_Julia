{
 "cells": [
  {
   "cell_type": "markdown",
   "id": "3bd39f3c-1009-4997-b0be-aa1b67b77148",
   "metadata": {},
   "source": [
    "#### Install ITensor"
   ]
  },
  {
   "cell_type": "code",
   "execution_count": 1,
   "id": "b4607e51-e94e-4028-8693-6ad25031157e",
   "metadata": {},
   "outputs": [],
   "source": [
    "# using Pkg\n",
    "# Pkg.add(\"ITensors\")"
   ]
  },
  {
   "cell_type": "markdown",
   "id": "e1e99ecc-fe19-407b-be0e-2d671f41c5b9",
   "metadata": {},
   "source": [
    "#### Load ITensor"
   ]
  },
  {
   "cell_type": "code",
   "execution_count": 2,
   "id": "9132b2df-9e7e-4c43-94ea-af20f091d4b2",
   "metadata": {},
   "outputs": [],
   "source": [
    "using ITensors"
   ]
  },
  {
   "cell_type": "markdown",
   "id": "032f77fe-f9a8-49de-9996-7fa4d6fff544",
   "metadata": {},
   "source": [
    "#### Index() and Itensor() functions\n",
    "\n",
    "- **Index()**: Define an Index represents a single tensor index with fixed dimension dim. \n",
    "\n",
    "- **Itensor()**: Constructor for an ITensor from a TensorStorage and a set of indices."
   ]
  },
  {
   "cell_type": "code",
   "execution_count": 3,
   "id": "211f5d1e-2960-4e49-98cd-c21884fad194",
   "metadata": {},
   "outputs": [],
   "source": [
    "# ?ITensor #This is how you ask for help in Julia"
   ]
  },
  {
   "cell_type": "code",
   "execution_count": 4,
   "id": "2090cbd5-0e9e-4542-847c-274539402003",
   "metadata": {},
   "outputs": [],
   "source": [
    "# ?Index #This is how you ask for help in Julia"
   ]
  },
  {
   "cell_type": "markdown",
   "id": "34a0bc60-fe61-4709-9b98-a57d039acf05",
   "metadata": {},
   "source": [
    "**Example of usage**:"
   ]
  },
  {
   "cell_type": "code",
   "execution_count": 29,
   "id": "9e0ce45f-16fc-417b-9b57-f50defc8393e",
   "metadata": {},
   "outputs": [
    {
     "name": "stdout",
     "output_type": "stream",
     "text": [
      "A = ITensor ord=2\n",
      "Dim 1: (dim=3|id=598)\n",
      "Dim 2: (dim=3|id=638)\n",
      "NDTensors.Dense{Int64, Vector{Int64}}\n",
      " 3×3\n",
      " 0  2  0\n",
      " 0  3  0\n",
      " 0  0  0\n"
     ]
    },
    {
     "data": {
      "text/plain": [
       "ITensor ord=2 (dim=3|id=598) (dim=3|id=638)\n",
       "NDTensors.Dense{Int64, Vector{Int64}}"
      ]
     },
     "execution_count": 29,
     "metadata": {},
     "output_type": "execute_result"
    }
   ],
   "source": [
    "i = Index(3) \n",
    "j = Index(3)\n",
    "\n",
    "A = ITensor(i,j) #Tensor with two indexes, it will be a Matrix\n",
    "\n",
    "A[i=>1, j => 2] = 2 #This is one way to set the elements inside the tensor (it does not matter the order).\n",
    "A[i=>2, j => 2] = 3 \n",
    "\n",
    "@show A"
   ]
  },
  {
   "cell_type": "code",
   "execution_count": 28,
   "id": "7f7183fb-e313-47f4-b2c1-54df55e275b0",
   "metadata": {},
   "outputs": [
    {
     "name": "stdout",
     "output_type": "stream",
     "text": [
      "A[i => 1, j => 2] = 2\n",
      "inds(A) = ((dim=3|id=732), (dim=3|id=57))\n"
     ]
    }
   ],
   "source": [
    "@show A[i=>1,j=>2]; #This is how we can get the elements inside the tensor  (it does not matter the order).\n",
    "@show inds(A); #This is how we can get the indexes of A"
   ]
  },
  {
   "cell_type": "markdown",
   "id": "b571dc85-7d53-4e99-adba-6334b50f9b90",
   "metadata": {},
   "source": [
    "Defining each element of the matrix is very unpractical, there is another way to do it:"
   ]
  },
  {
   "cell_type": "code",
   "execution_count": 39,
   "id": "80e391d1-005b-466e-9c3d-6776e813b9b2",
   "metadata": {},
   "outputs": [
    {
     "name": "stdout",
     "output_type": "stream",
     "text": [
      "A = ITensor ord=2\n",
      "Dim 1: (dim=4|id=654)\n",
      "Dim 2: (dim=2|id=280)\n",
      "NDTensors.Dense{Float64, Vector{Float64}}\n",
      " 4×2\n",
      " 1.0  3.0\n",
      " 5.0  7.0\n",
      " 2.0  4.0\n",
      " 6.0  8.0\n",
      "A = ITensor ord=2\n",
      "Dim 1: (dim=2|id=280)\n",
      "Dim 2: (dim=4|id=654)\n",
      "NDTensors.Dense{Float64, Vector{Float64}}\n",
      " 2×4\n",
      " 1.0  2.0  3.0  4.0\n",
      " 5.0  6.0  7.0  8.0\n"
     ]
    },
    {
     "data": {
      "text/plain": [
       "ITensor ord=2 (dim=2|id=280) (dim=4|id=654)\n",
       "NDTensors.Dense{Float64, Vector{Float64}}"
      ]
     },
     "execution_count": 39,
     "metadata": {},
     "output_type": "execute_result"
    }
   ],
   "source": [
    "array = [1.0 2.0 3.0 4.0 ; 5.0 6.0 7.0 8.0]\n",
    "\n",
    "#We need to define two indexes\n",
    "i = Index(4) \n",
    "j = Index(2)\n",
    "\n",
    "A = ITensor(array,i,j) #This is another way to give vale\n",
    "@show A \n",
    "#or\n",
    "A = ITensor(array,j, i) #This is another way to give vale\n",
    "@show A "
   ]
  },
  {
   "cell_type": "markdown",
   "id": "38e43ec3-49d9-426d-a129-8147d0b9089c",
   "metadata": {},
   "source": [
    "**Matrix Example**:"
   ]
  },
  {
   "cell_type": "markdown",
   "id": "2c379d5f-4681-47e2-be75-6f8fa87584cd",
   "metadata": {},
   "source": [
    "Let's play a little bith with this. Consider the tensor product: $A_{ij}*B_{ik}$"
   ]
  },
  {
   "cell_type": "code",
   "execution_count": 62,
   "id": "0a23de52-f637-4ead-a2a9-e164c4167869",
   "metadata": {},
   "outputs": [
    {
     "name": "stdout",
     "output_type": "stream",
     "text": [
      "A = ITensor ord=2\n",
      "Dim 1: (dim=3|id=15)\n",
      "Dim 2: (dim=3|id=707)\n",
      "NDTensors.Dense{Float64, Vector{Float64}}\n",
      " 3×3\n",
      " 1.0  2.0  3.0\n",
      " 4.0  5.0  6.0\n",
      " 7.0  8.0  9.0\n",
      "B = ITensor ord=2\n",
      "Dim 1: (dim=3|id=15)\n",
      "Dim 2: (dim=3|id=260)\n",
      "NDTensors.Dense{Float64, Vector{Float64}}\n",
      " 3×3\n",
      " 0.1  0.2  0.3\n",
      " 0.4  0.5  0.6\n",
      " 0.7  0.8  0.9\n"
     ]
    },
    {
     "data": {
      "text/plain": [
       "ITensor ord=2 (dim=3|id=15) (dim=3|id=260)\n",
       "NDTensors.Dense{Float64, Vector{Float64}}"
      ]
     },
     "execution_count": 62,
     "metadata": {},
     "output_type": "execute_result"
    }
   ],
   "source": [
    "A_matrix = [1.0 2.0 3.0; 4.0 5.0 6.0; 7.0 8.0 9.0]\n",
    "B_matrix = [1.0 2.0 3.0; 4.0 5.0 6.0; 7.0 8.0 9.0]/10;\n",
    "\n",
    "i = Index(3)\n",
    "j = Index(3)\n",
    "k = Index(3)\n",
    "\n",
    "A = ITensor(A_matrix,i,j) \n",
    "B = ITensor(B_matrix,i,k) \n",
    "\n",
    "@show A\n",
    "@show B"
   ]
  },
  {
   "cell_type": "markdown",
   "id": "6955674f-c2e0-4381-96ad-d57f7ea29f72",
   "metadata": {},
   "source": [
    "I choose this values just because all of them are different. Let's try to contract the indixes using Itensor "
   ]
  },
  {
   "cell_type": "code",
   "execution_count": 63,
   "id": "4c112863-1095-411b-b138-9297f3c2b1b3",
   "metadata": {},
   "outputs": [
    {
     "name": "stdout",
     "output_type": "stream",
     "text": [
      "C = A * B = ITensor ord=2\n",
      "Dim 1: (dim=3|id=707)\n",
      "Dim 2: (dim=3|id=260)\n",
      "NDTensors.Dense{Float64, Vector{Float64}}\n",
      " 3×3\n",
      " 6.6   7.800000000000001   9.0\n",
      " 7.8   9.3                10.8\n",
      " 9.0  10.8                12.6\n"
     ]
    }
   ],
   "source": [
    "@show C = A*B; #Use * is how ITensor do the contraction of the common indexes between A and B."
   ]
  },
  {
   "cell_type": "markdown",
   "id": "4965a3c5-fae1-463d-a435-b3a487b4a7b9",
   "metadata": {},
   "source": [
    "Let's try exactly the same without using Itensor, just Julia. In this case we we do not have an index, just matrixes. We must be careful thinking what index we can to contract, and do the operation that we really want.\n",
    "\n",
    "It is not just A_matrix*B_matrix"
   ]
  },
  {
   "cell_type": "code",
   "execution_count": 68,
   "id": "11a5a49e-0834-4367-9a6e-50b93fb7e3dc",
   "metadata": {},
   "outputs": [
    {
     "data": {
      "text/plain": [
       "3×3 Matrix{Float64}:\n",
       "  3.0   3.6   4.2\n",
       "  6.6   8.1   9.6\n",
       " 10.2  12.6  15.0"
      ]
     },
     "execution_count": 68,
     "metadata": {},
     "output_type": "execute_result"
    }
   ],
   "source": [
    "A_matrix*B_matrix"
   ]
  },
  {
   "cell_type": "markdown",
   "id": "0b6fd745-40af-4e4b-960e-267670d925d6",
   "metadata": {},
   "source": [
    "We want $A_{ij}*B_{ik}$, and $(A*B)_{ik}$ = $A_{ij}*B_{jk}$, that is very different.\n",
    "\n",
    "So $A_{ij}*B_{ik}$ = $A^{T}_{ji}*B_{ik}$ = $(A^{T}*B)_{jk}$"
   ]
  },
  {
   "cell_type": "code",
   "execution_count": 69,
   "id": "79dfc2bc-fe20-434c-9e07-29f0282c10e6",
   "metadata": {},
   "outputs": [
    {
     "data": {
      "text/plain": [
       "3×3 Matrix{Float64}:\n",
       " 6.6   7.8   9.0\n",
       " 7.8   9.3  10.8\n",
       " 9.0  10.8  12.6"
      ]
     },
     "execution_count": 69,
     "metadata": {},
     "output_type": "execute_result"
    }
   ],
   "source": [
    "transpose(A_matrix)*B_matrix"
   ]
  },
  {
   "cell_type": "markdown",
   "id": "5ce9777b-c828-4a94-b634-af1f6cc5c6e4",
   "metadata": {},
   "source": [
    "We got the same result, but was harder without ITensor."
   ]
  },
  {
   "cell_type": "markdown",
   "id": "3826cf50-f61e-4e7b-873e-4776ba0dcf1d",
   "metadata": {},
   "source": [
    "#### randomITensor() function\n",
    "\n",
    "Create an ITensor with normally-distributed random elements instead of specific values."
   ]
  },
  {
   "cell_type": "code",
   "execution_count": 17,
   "id": "d359c1ed-9120-4e2a-a050-b7e4cf7d8ee1",
   "metadata": {},
   "outputs": [
    {
     "name": "stdout",
     "output_type": "stream",
     "text": [
      "ITensor ord=3\n",
      "Dim 1: (dim=3|id=333)\n",
      "Dim 2: (dim=3|id=57)\n",
      "Dim 3: (dim=3|id=938)\n",
      "NDTensors.Dense{Float64, Vector{Float64}}\n",
      " 3×3×3\n",
      "[:, :, 1] =\n",
      " -0.6462042812779621   -0.4372550613876982  -0.367793931807512\n",
      " -0.03623981077478388   0.4890343045960226  -1.1531261435428317\n",
      " -1.82878064669124      0.7972959473515198  -1.3691381309185018\n",
      "\n",
      "[:, :, 2] =\n",
      "  0.7266013930013304   -0.8095646469427081   -0.29282864131315794\n",
      " -0.04545220715048151  -0.43604605846561517  -0.24593015378134592\n",
      "  1.7586023997799958   -1.5895115069818313    0.722504325466795\n",
      "\n",
      "[:, :, 3] =\n",
      "  1.1971275868827749  0.04882787599002626  0.3799386541852112\n",
      " -0.2637516865478435  0.5552767223431475   0.17371942639858803\n",
      "  0.5262502661798915  0.42411055636598854  0.05425781547345989\n"
     ]
    }
   ],
   "source": [
    "A = randomITensor(i,j,k)\n",
    "\n",
    "println(A)"
   ]
  },
  {
   "cell_type": "markdown",
   "id": "49dd2da6-9e40-4bd6-b11e-0460712c6301",
   "metadata": {},
   "source": [
    "Let's play a little bit more. \n",
    "\n",
    "**What if we do not have common indexes and we perform a multiplication between different tensors?** We expect a higher order tensor because $A_{ij}*B_{k} = AB_{ijk}$"
   ]
  },
  {
   "cell_type": "code",
   "execution_count": 74,
   "id": "c14c8a1d-3fcc-463e-a0b3-39fc3edad8da",
   "metadata": {},
   "outputs": [
    {
     "name": "stdout",
     "output_type": "stream",
     "text": [
      "AB = A * B = ITensor ord=3\n",
      "Dim 1: (dim=3|id=290)\n",
      "Dim 2: (dim=3|id=994)\n",
      "Dim 3: (dim=3|id=87)\n",
      "NDTensors.Dense{Float64, Vector{Float64}}\n",
      " 3×3×3\n",
      "[:, :, 1] =\n",
      " -0.3977291000711651    -0.37367557045164185  0.05754800193870204\n",
      " -0.29007791157495577   -0.24527362228633764  0.7682091584787905\n",
      "  0.055076364981285895   0.06786981467069854  0.0314034931326867\n",
      "\n",
      "[:, :, 2] =\n",
      " -0.17189866397805928  -0.16150271959075424  0.024872267697032\n",
      " -0.125371780541978    -0.1060073501600375   0.3320202820829179\n",
      "  0.02380402529097569   0.02933335897283869  0.013572601332884892\n",
      "\n",
      "[:, :, 3] =\n",
      " -0.07725052548067203   -0.07257863246997555   0.011177490883448103\n",
      " -0.056341542762376955  -0.04763925044654063   0.14920849684102316\n",
      "  0.010697427308206353   0.013182286251242787  0.006099469075797205\n"
     ]
    }
   ],
   "source": [
    "A = randomITensor(i,j)\n",
    "B = randomITensor(k)\n",
    "\n",
    "@show AB = A*B; #Clearly it is not a matrix any more."
   ]
  },
  {
   "cell_type": "markdown",
   "id": "0ec6f796-5b53-4aaa-ac5f-d4b5b2c3feda",
   "metadata": {},
   "source": [
    "#### Linear combinations of ITensors\n",
    "\n",
    "ITensors may also be subtracted and multiplied by scalars, including complex scalars, for example:"
   ]
  },
  {
   "cell_type": "code",
   "execution_count": 82,
   "id": "b53e93ac-11af-44dc-8fa5-8183b5632da8",
   "metadata": {},
   "outputs": [
    {
     "data": {
      "text/plain": [
       "ITensor ord=3 (dim=3|id=87) (dim=3|id=290) (dim=3|id=994)\n",
       "NDTensors.Dense{Float64, Vector{Float64}}"
      ]
     },
     "execution_count": 82,
     "metadata": {},
     "output_type": "execute_result"
    }
   ],
   "source": [
    "A = randomITensor(i,j,k)\n",
    "B = randomITensor(k,i,j) "
   ]
  },
  {
   "cell_type": "code",
   "execution_count": 83,
   "id": "be94559e-aa71-4a80-8033-867130dacdcc",
   "metadata": {},
   "outputs": [
    {
     "name": "stdout",
     "output_type": "stream",
     "text": [
      "C = 4A - B / 2 = ITensor ord=3\n",
      "Dim 1: (dim=3|id=290)\n",
      "Dim 2: (dim=3|id=994)\n",
      "Dim 3: (dim=3|id=87)\n",
      "NDTensors.Dense{Float64, Vector{Float64}}\n",
      " 3×3×3\n",
      "[:, :, 1] =\n",
      " -3.5198108971941044  -0.9393259146486914   0.76763693551868\n",
      "  3.320783505225434   -2.6055213077423214  -2.3822558076268816\n",
      " -2.1742244304045997  -2.997125310085868    3.4623357312714305\n",
      "\n",
      "[:, :, 2] =\n",
      " -4.996899337245327  -0.9771925028953555  -2.6828142749961383\n",
      "  2.09862028635423    0.2815335964908921   2.1028082515484225\n",
      " -1.168343726122945   1.0834533652511618   0.677612025897224\n",
      "\n",
      "[:, :, 3] =\n",
      "  4.616734320782968     0.21423768264131515  2.0154455141747265\n",
      " -0.23534795589988033  -1.3311511820388957   5.234524707289403\n",
      " -2.2491860272480784   -0.21109178459656522  0.5697106290350873\n",
      "D = A + (3.0im) * B = ITensor ord=3\n",
      "Dim 1: (dim=3|id=290)\n",
      "Dim 2: (dim=3|id=994)\n",
      "Dim 3: (dim=3|id=87)\n",
      "NDTensors.Dense{ComplexF64, Vector{ComplexF64}}\n",
      " 3×3×3\n",
      "[:, :, 1] =\n",
      " -1.0405817314006613 - 3.8550961704512443im  -0.19615649065430016 + 0.9281997121889444im   0.2947420123506801 + 2.4679866833042423im\n",
      "  0.9381171655030508 + 2.590110940720616im    -0.6724987380236469 - 0.5068418661135976im  -0.8107797934199945 - 5.165180196318577im\n",
      " -0.5225137150194678 + 0.5050174219603728im   -0.8459695502392277 - 2.3205173452262553im   0.9912837228524618 + 3.016794960830502im\n",
      "\n",
      "[:, :, 2] =\n",
      "  -1.2715215711152292 - 0.5351216832935413im   -0.2799284791466086 - 0.855128482146474im    -0.602441474848145 + 1.6382902536213506im\n",
      "    0.653373083766306 + 3.0892322922659625im  0.015197011211850688 - 1.3244733098609363im  0.48768738266022954 - 0.9123523254450273im\n",
      " -0.43778342660935315 - 3.496739881886806im    0.29024625124312736 + 0.4651898383280867im  0.02223398469536141 - 3.53205652269467im\n",
      "\n",
      "[:, :, 3] =\n",
      "  0.9144753083557401 - 5.752998524160048im   0.04517694923397698 - 0.20117931423244337im   0.6168348821186042 + 2.7113640857981416im\n",
      " -0.2650147059034312 - 4.948265206283066im   -0.3573509773074266 - 0.5895163631448642im    1.3872985180541444 + 1.8880161895630492im\n",
      " -0.4929157347718536 + 1.665138528963984im  0.049823871947513206 + 2.4623236343197084im   0.05022928288726849 - 2.2127609849160796im\n"
     ]
    }
   ],
   "source": [
    "@show C = 4*A - B/2 \n",
    "@show D = A + 3.0im * B;"
   ]
  },
  {
   "cell_type": "markdown",
   "id": "95b2f515-0f1b-4218-9fcb-debbdf9553c2",
   "metadata": {},
   "source": [
    "This is just possible because A and B have the same indexes:"
   ]
  },
  {
   "cell_type": "code",
   "execution_count": 78,
   "id": "bf822f38-d993-449a-be5d-67989fae018e",
   "metadata": {},
   "outputs": [
    {
     "data": {
      "text/plain": [
       "ITensor ord=3 (dim=3|id=87) (dim=3|id=290) (dim=3|id=297)\n",
       "NDTensors.Dense{Float64, Vector{Float64}}"
      ]
     },
     "execution_count": 78,
     "metadata": {},
     "output_type": "execute_result"
    }
   ],
   "source": [
    "l = Index(3)\n",
    "\n",
    "A = randomITensor(i,j,k)\n",
    "B = randomITensor(k,i,l) "
   ]
  },
  {
   "cell_type": "code",
   "execution_count": 79,
   "id": "ad43b9f2-0154-417e-946c-7fcbefe39cc0",
   "metadata": {},
   "outputs": [
    {
     "ename": "LoadError",
     "evalue": "You are trying to add an ITensor with indices:\n\n((dim=3|id=87), (dim=3|id=290), (dim=3|id=297))\n\ninto an ITensor with indices:\n\n((dim=3|id=290), (dim=3|id=994), (dim=3|id=87))\n\nbut the indices are not permutations of each other.\n",
     "output_type": "error",
     "traceback": [
      "You are trying to add an ITensor with indices:\n\n((dim=3|id=87), (dim=3|id=290), (dim=3|id=297))\n\ninto an ITensor with indices:\n\n((dim=3|id=290), (dim=3|id=994), (dim=3|id=87))\n\nbut the indices are not permutations of each other.\n",
      "",
      "Stacktrace:",
      " [1] error(s::String)",
      "   @ Base .\\error.jl:35",
      " [2] _map!!(f::Function, R::NDTensors.DenseTensor{Float64, 3, Tuple{Index{Int64}, Index{Int64}, Index{Int64}}, NDTensors.Dense{Float64, Vector{Float64}}}, T1::NDTensors.DenseTensor{Float64, 3, Tuple{Index{Int64}, Index{Int64}, Index{Int64}}, NDTensors.Dense{Float64, Vector{Float64}}}, T2::NDTensors.DenseTensor{Float64, 3, Tuple{Index{Int64}, Index{Int64}, Index{Int64}}, NDTensors.Dense{Float64, Vector{Float64}}})",
      "   @ ITensors C:\\Users\\JOP204\\.julia\\packages\\ITensors\\oOwvi\\src\\itensor.jl:1884",
      " [3] map!(f::Function, R::ITensor, T1::ITensor, T2::ITensor)",
      "   @ ITensors C:\\Users\\JOP204\\.julia\\packages\\ITensors\\oOwvi\\src\\itensor.jl:1910",
      " [4] copyto!",
      "   @ C:\\Users\\JOP204\\.julia\\packages\\ITensors\\oOwvi\\src\\broadcast.jl:330 [inlined]",
      " [5] materialize!",
      "   @ .\\broadcast.jl:914 [inlined]",
      " [6] materialize!",
      "   @ .\\broadcast.jl:911 [inlined]",
      " [7] -(A::ITensor, B::ITensor)",
      "   @ ITensors C:\\Users\\JOP204\\.julia\\packages\\ITensors\\oOwvi\\src\\itensor.jl:1827",
      " [8] top-level scope",
      "   @ In[79]:1"
     ]
    }
   ],
   "source": [
    "C = 4*A - B/2 "
   ]
  },
  {
   "cell_type": "markdown",
   "id": "ec4ae59f-a85f-44b4-89e1-35327d05b374",
   "metadata": {},
   "source": [
    "#### prime(), delta(), combiner() and dag() functions\n",
    "\n",
    "We already see that we can use * to contract the common indexes between two or more tensors. However, * can be used in different ways if we also use the functions prime(), delta(), combiner() and dag().\n",
    "\n",
    "Consider two Tensors:"
   ]
  },
  {
   "cell_type": "code",
   "execution_count": 84,
   "id": "93d683ca-1d70-4229-b86d-7ce6edda6954",
   "metadata": {},
   "outputs": [],
   "source": [
    "A = randomITensor(i,j)\n",
    "B = randomITensor(i,j);"
   ]
  },
  {
   "cell_type": "markdown",
   "id": "b9460f16-4e2d-4f1a-92c5-57851f39bd86",
   "metadata": {},
   "source": [
    "They have two common indixes:"
   ]
  },
  {
   "cell_type": "code",
   "execution_count": 85,
   "id": "afb9674c-0933-45be-88f9-b55147ae54f4",
   "metadata": {},
   "outputs": [
    {
     "data": {
      "text/plain": [
       "2-element Vector{Index{Int64}}:\n",
       " (dim=3|id=290)\n",
       " (dim=3|id=994)"
      ]
     },
     "execution_count": 85,
     "metadata": {},
     "output_type": "execute_result"
    }
   ],
   "source": [
    "commoninds(A,B) #It returns the id of the common indixes between A and B"
   ]
  },
  {
   "cell_type": "markdown",
   "id": "d4bb99f0-0e84-40f1-8240-9b8744acbab2",
   "metadata": {},
   "source": [
    "As we expected, these indixes are i and j:"
   ]
  },
  {
   "cell_type": "code",
   "execution_count": 86,
   "id": "b0d22876-5f83-4a22-948b-1ca8d8715fee",
   "metadata": {},
   "outputs": [
    {
     "data": {
      "text/plain": [
       "((dim=3|id=290), (dim=3|id=994))"
      ]
     },
     "execution_count": 86,
     "metadata": {},
     "output_type": "execute_result"
    }
   ],
   "source": [
    "i,j"
   ]
  },
  {
   "cell_type": "markdown",
   "id": "107bdf94-c459-4e4e-b089-2d0557dc81db",
   "metadata": {},
   "source": [
    "Then if we use * between A and B, the operator will contract both indexes:"
   ]
  },
  {
   "cell_type": "code",
   "execution_count": 88,
   "id": "827c8277-2c3c-4dbd-b856-e62420fdbd67",
   "metadata": {},
   "outputs": [
    {
     "name": "stdout",
     "output_type": "stream",
     "text": [
      "C = A * B = ITensor ord=0\n",
      "NDTensors.Dense{Float64, Vector{Float64}}\n",
      " 0-dimensional\n",
      "0.15383757734989112\n"
     ]
    }
   ],
   "source": [
    "@show C = A*B; #We got a tensor of range zero (an scalar)"
   ]
  },
  {
   "cell_type": "markdown",
   "id": "79a9deae-c7fe-442e-967a-a46306238c5c",
   "metadata": {},
   "source": [
    "This has sense because it is just $A_{i,j}*B_{i,j}$. IF we contract i and j, then we must have and scalar. We can access to this scalar in two ways:"
   ]
  },
  {
   "cell_type": "code",
   "execution_count": 89,
   "id": "63f27a61-d596-473e-8cf3-dd995a339a53",
   "metadata": {},
   "outputs": [
    {
     "data": {
      "text/plain": [
       "(0.15383757734989112, 0.15383757734989112)"
      ]
     },
     "execution_count": 89,
     "metadata": {},
     "output_type": "execute_result"
    }
   ],
   "source": [
    "C[], scalar(C)"
   ]
  },
  {
   "cell_type": "markdown",
   "id": "c8e0daa6-f236-43ab-a946-be19c3fa910b",
   "metadata": {},
   "source": [
    "There are some cases when we do not want to contract all the common indexes. For example, if we just want to contract j even if there are two common indexes we can use the function **prime()**:"
   ]
  },
  {
   "cell_type": "code",
   "execution_count": 93,
   "id": "1016d0e1-4a2d-4b84-9698-6637336da7fc",
   "metadata": {},
   "outputs": [],
   "source": [
    "A_prime = prime(A,i);"
   ]
  },
  {
   "cell_type": "markdown",
   "id": "74f81fcb-21cd-456d-9574-52ac9b739551",
   "metadata": {},
   "source": [
    "The ITensor A_prime has the same elements as A but has indices (i',j) instead of (i,j)."
   ]
  },
  {
   "cell_type": "code",
   "execution_count": 100,
   "id": "fc2c4f41-b523-4aac-8fc4-6fdbe8df5a62",
   "metadata": {},
   "outputs": [
    {
     "name": "stdout",
     "output_type": "stream",
     "text": [
      "A = ITensor ord=2\n",
      "Dim 1: (dim=3|id=290)\n",
      "Dim 2: (dim=3|id=994)\n",
      "NDTensors.Dense{Float64, Vector{Float64}}\n",
      " 3×3\n",
      "  0.5593004093042458  -1.6270392975820762  -0.5552047614954121\n",
      " -0.6597140112063036  -0.7976344384358729   1.558084880576239\n",
      "  1.35992367451644     0.9479013275236403   0.3860664141366295\n",
      "A_prime = ITensor ord=2\n",
      "Dim 1: (dim=3|id=290)'\n",
      "Dim 2: (dim=3|id=994)\n",
      "NDTensors.Dense{Float64, Vector{Float64}}\n",
      " 3×3\n",
      "  0.5593004093042458  -1.6270392975820762  -0.5552047614954121\n",
      " -0.6597140112063036  -0.7976344384358729   1.558084880576239\n",
      "  1.35992367451644     0.9479013275236403   0.3860664141366295\n"
     ]
    }
   ],
   "source": [
    "@show A\n",
    "@show A_prime;"
   ]
  },
  {
   "cell_type": "markdown",
   "id": "c8a4ade7-8f18-4cd2-8c8d-a5b4b1f31eaf",
   "metadata": {},
   "source": [
    "**Note:** We also can do A_prime = prime(A,i,j) or just A_prime = A'. Then A_prime will have the same elements as A but has indices (i',j') instead of (i,j). \n",
    "\n",
    "In this case A_prime and B just have one common index:"
   ]
  },
  {
   "cell_type": "code",
   "execution_count": 35,
   "id": "e2e59fb4-a2fc-4f6b-90cb-f61955ac5096",
   "metadata": {},
   "outputs": [
    {
     "data": {
      "text/plain": [
       "1-element Vector{Index{Int64}}:\n",
       " (dim=3|id=57)"
      ]
     },
     "metadata": {},
     "output_type": "display_data"
    }
   ],
   "source": [
    "commoninds(A_prime,B)"
   ]
  },
  {
   "cell_type": "markdown",
   "id": "490c191a-4f35-4423-b0fd-7fff7bb2ed66",
   "metadata": {},
   "source": [
    "So,"
   ]
  },
  {
   "cell_type": "code",
   "execution_count": 98,
   "id": "5627151a-1b72-4ffd-a6aa-08ac98391e78",
   "metadata": {},
   "outputs": [
    {
     "name": "stdout",
     "output_type": "stream",
     "text": [
      "C = A_prime * B = ITensor ord=2\n",
      "Dim 1: (dim=3|id=290)'\n",
      "Dim 2: (dim=3|id=290)\n",
      "NDTensors.Dense{Float64, Vector{Float64}}\n",
      " 3×3\n",
      " -0.9987771340668431   0.597648136831327    0.912296732234321\n",
      "  2.2660896672345663   2.1141034951055118   0.263281105372812\n",
      "  1.2384674342106172  -1.6330716724747751  -0.9614887836887775\n"
     ]
    }
   ],
   "source": [
    "@show C = A_prime*B;"
   ]
  },
  {
   "cell_type": "markdown",
   "id": "44b0801c-ad25-4c75-82af-abf5d5532f91",
   "metadata": {},
   "source": [
    "Instead of doing $A_{i,j}*B_{i,j}$, we did $A_{i',j}*B_{i,j} = C_{i',i}$. Now if we want to get the same scalar as before, we just need to contract when $i = i'$. We can do this using the function **delta()**:"
   ]
  },
  {
   "cell_type": "code",
   "execution_count": 99,
   "id": "7592999d-e76c-4c79-a939-7e17b0b4f25c",
   "metadata": {},
   "outputs": [
    {
     "name": "stdout",
     "output_type": "stream",
     "text": [
      "delta(i, i') = ITensor ord=2\n",
      "Dim 1: (dim=3|id=290)\n",
      "Dim 2: (dim=3|id=290)'\n",
      "NDTensors.Diag{Float64, Float64}\n",
      " 3×3\n",
      " 1.0  0.0  0.0\n",
      " 0.0  1.0  0.0\n",
      " 0.0  0.0  1.0\n"
     ]
    }
   ],
   "source": [
    "@show delta(i,i');"
   ]
  },
  {
   "cell_type": "markdown",
   "id": "58e6d730-7cdd-4630-bc92-1784baa6f618",
   "metadata": {},
   "source": [
    "Then,"
   ]
  },
  {
   "cell_type": "code",
   "execution_count": 101,
   "id": "f5f30cb2-1bb3-4845-83e7-6bdda99542e6",
   "metadata": {},
   "outputs": [
    {
     "name": "stdout",
     "output_type": "stream",
     "text": [
      "C * delta(i, i') = ITensor ord=0\n",
      "NDTensors.Dense{Float64, Vector{Float64}}\n",
      " 0-dimensional\n",
      "0.15383757734989123\n"
     ]
    }
   ],
   "source": [
    "@show C*delta(i,i');"
   ]
  },
  {
   "cell_type": "markdown",
   "id": "16cc9c34-448f-4399-ab0a-979e3e4fb08c",
   "metadata": {},
   "source": [
    "**Note:** delta() output is the identity tensor, we can build it with more indexes:"
   ]
  },
  {
   "cell_type": "code",
   "execution_count": 102,
   "id": "ad1f3e2f-fd50-408c-9375-c86147832199",
   "metadata": {},
   "outputs": [
    {
     "name": "stdout",
     "output_type": "stream",
     "text": [
      "delta(i, j, k) = ITensor ord=3\n",
      "Dim 1: (dim=3|id=290)\n",
      "Dim 2: (dim=3|id=994)\n",
      "Dim 3: (dim=3|id=87)\n",
      "NDTensors.Diag{Float64, Float64}\n",
      " 3×3×3\n",
      "[:, :, 1] =\n",
      " 1.0  0.0  0.0\n",
      " 0.0  0.0  0.0\n",
      " 0.0  0.0  0.0\n",
      "\n",
      "[:, :, 2] =\n",
      " 0.0  0.0  0.0\n",
      " 0.0  1.0  0.0\n",
      " 0.0  0.0  0.0\n",
      "\n",
      "[:, :, 3] =\n",
      " 0.0  0.0  0.0\n",
      " 0.0  0.0  0.0\n",
      " 0.0  0.0  1.0\n"
     ]
    }
   ],
   "source": [
    "@show delta(i,j,k);"
   ]
  },
  {
   "cell_type": "markdown",
   "id": "0dd9dfdc-b194-4ba0-bafd-c6d81537197b",
   "metadata": {},
   "source": [
    "**Note:** Julia allows us to use directly the symbol δ instead of delta."
   ]
  },
  {
   "cell_type": "code",
   "execution_count": 119,
   "id": "159076da-e26a-4b0f-b097-5eafd7f9dfa9",
   "metadata": {},
   "outputs": [
    {
     "name": "stdout",
     "output_type": "stream",
     "text": [
      "δ(k, i, j) == delta(i, j, k) = true\n"
     ]
    }
   ],
   "source": [
    "@show δ(k,i,j) == delta(i,j,k);"
   ]
  },
  {
   "cell_type": "markdown",
   "id": "9ba73d71-0643-4263-90a0-64cdb1e62c89",
   "metadata": {},
   "source": [
    "We could think that may be we can split legs using also deltas, but it is dangerous. Consider this example:"
   ]
  },
  {
   "cell_type": "code",
   "execution_count": 137,
   "id": "447be23c-e7be-4425-928a-f7435a326fb2",
   "metadata": {},
   "outputs": [
    {
     "name": "stdout",
     "output_type": "stream",
     "text": [
      "A = randomITensor(m) = ITensor ord=1\n",
      "Dim 1: (dim=4|id=560)\n",
      "NDTensors.Dense{Float64, Vector{Float64}}\n",
      " 4-element\n",
      "  0.4652118095957658\n",
      "  0.07686299809849224\n",
      " -1.2494207941519342\n",
      " -0.3958360293391704\n"
     ]
    }
   ],
   "source": [
    "m = Index(4)\n",
    "@show A = randomITensor(m); #What if we multiply with a delta(m,j,k), it will became a matrix, but not necessarily will have all the information"
   ]
  },
  {
   "cell_type": "code",
   "execution_count": 139,
   "id": "d52b3fb2-e06f-450a-9965-c06c47941999",
   "metadata": {},
   "outputs": [
    {
     "name": "stdout",
     "output_type": "stream",
     "text": [
      "A * delta(m, j, k) = ITensor ord=2\n",
      "Dim 1: (dim=3|id=994)\n",
      "Dim 2: (dim=3|id=87)\n",
      "NDTensors.Dense{Float64, Vector{Float64}}\n",
      " 3×3\n",
      " 0.4652118095957658  0.0                   0.0\n",
      " 0.0                 0.07686299809849224   0.0\n",
      " 0.0                 0.0                  -1.2494207941519342\n"
     ]
    }
   ],
   "source": [
    "@show A*delta(m,j,k);"
   ]
  },
  {
   "cell_type": "markdown",
   "id": "dbd7b842-0623-4ab8-acb7-5fd2bf069ec8",
   "metadata": {},
   "source": [
    "**Note:** This property of \"losing\" information is very useful to trace out freedom degrees (a very common operation in quantum mechanics). One example of partial trace in quantum mechanics can be found here: https://itensor.discourse.group/t/trace-and-partial-trace-of-mpo/79/2"
   ]
  },
  {
   "cell_type": "code",
   "execution_count": 143,
   "id": "6fc0b755-a3b2-4cd1-8ef8-105e2c2033d6",
   "metadata": {},
   "outputs": [
    {
     "name": "stdout",
     "output_type": "stream",
     "text": [
      "A * delta(j, l) = ITensor ord=1\n",
      "Dim 1: (dim=3|id=290)\n",
      "NDTensors.Dense{Float64, Vector{Float64}}\n",
      " 3-element\n",
      "  2.2001914025133393\n",
      " -3.359810157369243\n",
      " -1.412450883903426\n"
     ]
    }
   ],
   "source": [
    "A = randomITensor(i,j,l); #Suppose that we want to trace out j, l and just keep i.\n",
    "@show A*delta(j,l); #this is very useful but also dangerous, so be careful with this function."
   ]
  },
  {
   "cell_type": "markdown",
   "id": "ae8366c1-84fa-4197-b3b5-9aaeb609febb",
   "metadata": {},
   "source": [
    "May be right now prime() looks not very useful, but actually it is. One example is that can be used to create density matrices operators from quantum states without contracting all the indexes in the process.\n",
    "\n",
    "**Note:** If we want to prime all indexes in a tensor we can also just do A', is the same of prime(A). In fact primes can be accumulated like A'' (all indexes will have two prime)"
   ]
  },
  {
   "cell_type": "code",
   "execution_count": 118,
   "id": "fac62a59-033e-4999-a528-e6d38f114464",
   "metadata": {},
   "outputs": [
    {
     "name": "stdout",
     "output_type": "stream",
     "text": [
      "A' == prime(A) = true\n",
      "prime_inds = inds((A')') = ((dim=3|id=290)'', (dim=3|id=994)'', (dim=3|id=87)'', (dim=3|id=297)'')\n",
      "plev(prime_inds[1]) = 2\n",
      "noprime((A')') = ITensor ord=4\n",
      "Dim 1: (dim=3|id=290)\n",
      "Dim 2: (dim=3|id=994)\n",
      "Dim 3: (dim=3|id=87)\n",
      "Dim 4: (dim=3|id=297)\n",
      "NDTensors.Dense{Float64, Vector{Float64}}\n",
      " 3×3×3×3\n",
      "[:, :, 1, 1] =\n",
      " -0.006433347906161656   0.5079112235592007   -0.2752130084284866\n",
      " -0.6767131402443731    -0.19746354254928336  -1.748650797898604\n",
      "  0.36404354829133173    0.6925311108714653   -0.4718350476930493\n",
      "\n",
      "[:, :, 2, 1] =\n",
      " -1.3861940164691493    -1.744139490746865    0.1921020869445142\n",
      "  0.015412385250036556   0.2735108834300131   0.3231399458135407\n",
      " -0.17721176408384737   -4.081567881740642   -0.11047199116963785\n",
      "\n",
      "[:, :, 3, 1] =\n",
      "  0.7709525959066619    0.03141896286351716  -0.01266341385656711\n",
      " -0.21998050237699365  -0.6708092487479683   -0.1544964298545186\n",
      " -0.33456818265654004   0.3567001934203174    0.8414858556713504\n",
      "\n",
      "[:, :, 1, 2] =\n",
      " -0.5491581794331707  -0.896638001264779     0.7424393923793933\n",
      " -0.4887287243314535   0.43195097175164265   0.8666720839557495\n",
      "  0.9152094753443709   0.5419243420307358   -0.7823870196573995\n",
      "\n",
      "[:, :, 2, 2] =\n",
      " 0.30664432110171874   0.6761182861175432  0.8425764381377616\n",
      " 2.0513028375019893    1.216891973096844   0.374592323711975\n",
      " 0.46233087949735224  -0.7416878864482142  1.2993679034130716\n",
      "\n",
      "[:, :, 3, 2] =\n",
      " 0.39759326936053707  0.40143785441729796   0.3748277249675091\n",
      " 0.07711877229148852  2.1725780518293356   -0.9422760381087829\n",
      " 0.3383454767698882   1.1512105154659338    0.3354310148453647\n",
      "\n",
      "[:, :, 1, 3] =\n",
      " 0.31055208092221315   0.07646950038374564  2.2469696757367434\n",
      " 0.6820111980361563   -0.44574843209856196  0.18454896142961286\n",
      " 1.4004463116920056   -0.9313618226587043   0.42404197867002336\n",
      "\n",
      "[:, :, 2, 3] =\n",
      " -0.07153331741178046   0.6088733926803784   -1.0818846381481582\n",
      " -1.6340218407613387   -1.309099122815351    -0.2974760788016688\n",
      " -0.22757249131517576   0.01819599786660897  -0.22707973379735438\n",
      "\n",
      "[:, :, 3, 3] =\n",
      " -1.0905129105697147   -0.13942124267959774    0.15803823904117664\n",
      " -0.32970969922149596  -0.3463010608097039     1.948223046706935\n",
      " -0.9588300437308672   -0.032774705104568064  -2.116959638460876\n"
     ]
    },
    {
     "data": {
      "text/plain": [
       "ITensor ord=4 (dim=3|id=290) (dim=3|id=994) (dim=3|id=87) (dim=3|id=297)\n",
       "NDTensors.Dense{Float64, Vector{Float64}}"
      ]
     },
     "execution_count": 118,
     "metadata": {},
     "output_type": "execute_result"
    }
   ],
   "source": [
    "@show A' == prime(A) #Two ways to write the same.\n",
    "@show prime_inds = inds(A'') #It has all indexes of A but two primered.\n",
    "@show plev(prime_inds[1]) #This is how we can check the prime-order of an specific index.\n",
    "@show noprime(A''); #This is how we can restore all the indexes and remove all the primes."
   ]
  },
  {
   "cell_type": "markdown",
   "id": "7c974940-56ee-4daa-b195-1f7b8f39c7d6",
   "metadata": {},
   "source": [
    "On the other hand delta tensors can also be used to change the indexes of a tensor without changing the information $A_{ij} * \\delta_{jl} = A_{il}$."
   ]
  },
  {
   "cell_type": "code",
   "execution_count": 126,
   "id": "48294e82-980d-4249-9da4-1937d5f05f7d",
   "metadata": {},
   "outputs": [
    {
     "name": "stdout",
     "output_type": "stream",
     "text": [
      "inds(A) = ((dim=3|id=290), (dim=3|id=994))\n",
      "(j, l) = ((dim=3|id=994), (dim=3|id=297))\n",
      "inds(A * δ(j, l)) = ((dim=3|id=290), (dim=3|id=297))\n"
     ]
    }
   ],
   "source": [
    "A = randomITensor(i,j)\n",
    "@show inds(A) #suppose we want to change index j to index l.\n",
    "@show j, l\n",
    "@show inds(A*δ(j,l)); #Clearly this can also be used to remove a prime. It contains the same information but with different indexes."
   ]
  },
  {
   "cell_type": "markdown",
   "id": "9504afb3-34a0-4899-9cc3-ca9c6f4ceed9",
   "metadata": {},
   "source": [
    "In addition to this, we also can use the Itensor product operator (*) to reshape Tensors using the functions **combiner()** and **dag()**. \n",
    "\n",
    "As an example consider this tensor:"
   ]
  },
  {
   "cell_type": "code",
   "execution_count": 144,
   "id": "35c26ef8-570f-4e65-a7cb-01d39fdaca4d",
   "metadata": {},
   "outputs": [],
   "source": [
    "A = randomITensor(i,j,k,l);"
   ]
  },
  {
   "cell_type": "markdown",
   "id": "e4d95e2a-f7e6-4bcd-b7b2-65fa0cd98713",
   "metadata": {},
   "source": [
    "We have a tensor of order 4. If we want to reshape it as a tensor of order 2, we can use the function combiner to merge i, j and k indexes:"
   ]
  },
  {
   "cell_type": "code",
   "execution_count": 145,
   "id": "9b63a44b-7b80-487d-af25-377ebfdde261",
   "metadata": {},
   "outputs": [
    {
     "name": "stdout",
     "output_type": "stream",
     "text": [
      "Mix_i_j_k = combiner(i, j, k, tags = \"ijk\") = ITensor ord=4\n",
      "Dim 1: (dim=27|id=791|\"ijk\")\n",
      "Dim 2: (dim=3|id=290)\n",
      "Dim 3: (dim=3|id=994)\n",
      "Dim 4: (dim=3|id=87)\n",
      "NDTensors.Combiner\n",
      " 27×3×3×3\n",
      "\n",
      "Permutation of blocks: Int64[]\n",
      "Combination of blocks: Int64[]\n",
      "\n"
     ]
    }
   ],
   "source": [
    "@show Mix_i_j_k = combiner(i,j,k, tags = \"ijk\"); #tags is an optional parameter when we define indexes, is just a label to know what means the index. In this case is useful to remember which indexes was merged."
   ]
  },
  {
   "cell_type": "markdown",
   "id": "d1ea7438-2846-4761-ac19-798411dd1c73",
   "metadata": {},
   "source": [
    "Then we just need to do the product:"
   ]
  },
  {
   "cell_type": "code",
   "execution_count": 146,
   "id": "bfdc0b09-0c04-49a2-a561-88dcb389810e",
   "metadata": {},
   "outputs": [
    {
     "name": "stdout",
     "output_type": "stream",
     "text": [
      "A_reshaped_ijk_l = Mix_i_j_k * A = ITensor ord=2\n",
      "Dim 1: (dim=27|id=791|\"ijk\")\n",
      "Dim 2: (dim=3|id=297)\n",
      "NDTensors.Dense{Float64, Vector{Float64}}\n",
      " 27×3\n",
      "  1.2058691382395101    1.1995093943655517   -0.46638829729185494\n",
      " -0.5862787633744042    1.1952612404443872    1.106412790760925\n",
      " -0.15999682974162846   0.1858698274123462   -0.12238680380654275\n",
      " -0.7994233968896991    0.3618942685821296   -2.040893542669453\n",
      " -2.8976052832599035    1.6175220180618928   -0.708141651876433\n",
      "  1.4823472550183432   -0.04794687080198627  -1.7940523316715884\n",
      "  0.9823015880932621   -1.0932358649285445    0.7028520582392501\n",
      " -1.4158347341500543   -1.1791580804851118   -0.04014179948585746\n",
      " -0.09575360319828732   0.2569055484791219    0.5264838035944183\n",
      " -1.0206701352121703    1.0169378009480534    0.07757950373391344\n",
      " -1.8688764888895593    0.10425168253837092  -0.0659622007228322\n",
      "  0.9684673957455945   -1.424349738999815    -2.988845006688457\n",
      " -0.14114884514089351   0.9412938221429032    0.5128494809605095\n",
      "  1.3944906880880727   -0.9246341680997647   -0.785480756570464\n",
      "  0.08624770707156391  -0.2188838730354544   -0.826637774516512\n",
      " -1.745942177739182    -0.7187094137386493    0.3750370189181161\n",
      " -1.2590556749672859   -0.6380910034674704   -0.5449146707066199\n",
      "  0.27724387355380103   1.5258985128079248   -0.7570195918466301\n",
      "  0.5488457382919469   -0.9870890873224397    0.24283212462281487\n",
      "  1.2601182735223522    1.5884898947634234    1.4350984002122351\n",
      "  0.96973143237404     -0.12774769996953367  -0.7491002289470399\n",
      " -0.6508246848232353   -0.6206176850557277   -0.46656116970882444\n",
      "  0.41858972236735265   0.47868639339127933  -0.06517512337438977\n",
      "  0.17139055069261702   0.5744398746771398    0.5357861165478547\n",
      " -0.7245951983585542    0.0852991010262278   -0.2496762113431959\n",
      " -0.2387952750146597    0.3993425283710707   -1.4948990361308305\n",
      "  0.8352911270764296    0.6322675281086193   -1.3250812029064263\n"
     ]
    }
   ],
   "source": [
    "@show A_reshaped_ijk_l = Mix_i_j_k*A;"
   ]
  },
  {
   "cell_type": "markdown",
   "id": "e2043cf6-13ee-4ce5-841a-9b4ec9394285",
   "metadata": {},
   "source": [
    "We also could thing in a mix i,j and k,l in order to have a matrix of dimensions ij x kl. If we want to do that we just need to use two combiners:"
   ]
  },
  {
   "cell_type": "code",
   "execution_count": 147,
   "id": "4e8be2b6-28e6-4889-bf78-1c8ed5fb1022",
   "metadata": {},
   "outputs": [
    {
     "name": "stdout",
     "output_type": "stream",
     "text": [
      "A_reshaped_ij_kl = Mix_i_j * (Mix_k_l * A) = ITensor ord=2\n",
      "Dim 1: (dim=9|id=362|\"ij\")\n",
      "Dim 2: (dim=9|id=411|\"kl\")\n",
      "NDTensors.Dense{Float64, Vector{Float64}}\n",
      " 9×9\n",
      "  1.2058691382395101   -1.0206701352121703    0.5488457382919469    1.1995093943655517    1.0169378009480534   -0.9870890873224397   -0.46638829729185494   0.07757950373391344   0.24283212462281487\n",
      " -0.5862787633744042   -1.8688764888895593    1.2601182735223522    1.1952612404443872    0.10425168253837092   1.5884898947634234    1.106412790760925    -0.0659622007228322    1.4350984002122351\n",
      " -0.15999682974162846   0.9684673957455945    0.96973143237404      0.1858698274123462   -1.424349738999815    -0.12774769996953367  -0.12238680380654275  -2.988845006688457    -0.7491002289470399\n",
      " -0.7994233968896991   -0.14114884514089351  -0.6508246848232353    0.3618942685821296    0.9412938221429032   -0.6206176850557277   -2.040893542669453     0.5128494809605095   -0.46656116970882444\n",
      " -2.8976052832599035    1.3944906880880727    0.41858972236735265   1.6175220180618928   -0.9246341680997647    0.47868639339127933  -0.708141651876433    -0.785480756570464    -0.06517512337438977\n",
      "  1.4823472550183432    0.08624770707156391   0.17139055069261702  -0.04794687080198627  -0.2188838730354544    0.5744398746771398   -1.7940523316715884   -0.826637774516512     0.5357861165478547\n",
      "  0.9823015880932621   -1.745942177739182    -0.7245951983585542   -1.0932358649285445   -0.7187094137386493    0.0852991010262278    0.7028520582392501    0.3750370189181161   -0.2496762113431959\n",
      " -1.4158347341500543   -1.2590556749672859   -0.2387952750146597   -1.1791580804851118   -0.6380910034674704    0.3993425283710707   -0.04014179948585746  -0.5449146707066199   -1.4948990361308305\n",
      " -0.09575360319828732   0.27724387355380103   0.8352911270764296    0.2569055484791219    1.5258985128079248    0.6322675281086193    0.5264838035944183   -0.7570195918466301   -1.3250812029064263\n"
     ]
    },
    {
     "data": {
      "text/plain": [
       "ITensor ord=2 (dim=9|id=362|\"ij\") (dim=9|id=411|\"kl\")\n",
       "NDTensors.Dense{Float64, Vector{Float64}}"
      ]
     },
     "execution_count": 147,
     "metadata": {},
     "output_type": "execute_result"
    }
   ],
   "source": [
    "Mix_i_j = combiner(i,j, tags = \"ij\")\n",
    "Mix_k_l = combiner(k,l, tags = \"kl\")\n",
    "\n",
    "@show A_reshaped_ij_kl = Mix_i_j*(Mix_k_l*A)"
   ]
  },
  {
   "cell_type": "markdown",
   "id": "6bab8cf5-2ebb-4d4f-9e7b-0e57be9920c0",
   "metadata": {},
   "source": [
    "Now, if we just want to recover the initial shape we can use the function **dag()**:"
   ]
  },
  {
   "cell_type": "code",
   "execution_count": 150,
   "id": "2907bd8a-0de0-4f92-8646-90c9ad406092",
   "metadata": {},
   "outputs": [
    {
     "name": "stdout",
     "output_type": "stream",
     "text": [
      "A == A_reconstructed_1 == A_reconstructed_2 = true\n"
     ]
    },
    {
     "data": {
      "text/plain": [
       "true"
      ]
     },
     "execution_count": 150,
     "metadata": {},
     "output_type": "execute_result"
    }
   ],
   "source": [
    "A_reconstructed_1 = dag(Mix_i_j_k)*A_reshaped_ijk_l\n",
    "A_reconstructed_2 = dag(Mix_k_l)*(dag(Mix_i_j)*A_reshaped_ij_kl)\n",
    "\n",
    "# Let's see if these tensor are the same as A:\n",
    "@show A == A_reconstructed_1 == A_reconstructed_2"
   ]
  },
  {
   "cell_type": "markdown",
   "id": "faa33d7b-222e-4dee-8feb-538ac3e4cef6",
   "metadata": {},
   "source": [
    "This is not the only utility of dag() function. It can also be used to calculate the adjoint of a tensor if we start considering also complex numbers:"
   ]
  },
  {
   "cell_type": "code",
   "execution_count": 161,
   "id": "306c6a19-bba9-47fb-9621-8236ec6639ca",
   "metadata": {},
   "outputs": [
    {
     "name": "stdout",
     "output_type": "stream",
     "text": [
      "A = randomITensor(i) + (1im) * randomITensor(i) = ITensor ord=1\n",
      "Dim 1: (dim=3|id=290)\n",
      "NDTensors.Dense{ComplexF64, Vector{ComplexF64}}\n",
      " 3-element\n",
      " 0.47461118084649956 - 0.3516820817957015im\n",
      " 0.04554591183200148 - 0.9603812468617408im\n",
      " -0.8603574621072771 + 0.48462194108812623im\n"
     ]
    },
    {
     "data": {
      "text/plain": [
       "ITensor ord=1 (dim=3|id=290)\n",
       "NDTensors.Dense{ComplexF64, Vector{ComplexF64}}"
      ]
     },
     "execution_count": 161,
     "metadata": {},
     "output_type": "execute_result"
    }
   ],
   "source": [
    "@show A = randomITensor(i) + 1im*randomITensor(i) #This create a complex tensor, at the end is a linear combination using a complex scalar in the sum. 1im = i in Julia."
   ]
  },
  {
   "cell_type": "code",
   "execution_count": 162,
   "id": "a2d3dfd9-6518-4c46-af95-b7e69aed22f6",
   "metadata": {},
   "outputs": [
    {
     "name": "stdout",
     "output_type": "stream",
     "text": [
      "dag(A) = ITensor ord=1\n",
      "Dim 1: (dim=3|id=290)\n",
      "NDTensors.Dense{ComplexF64, Vector{ComplexF64}}\n",
      " 3-element\n",
      " 0.47461118084649956 + 0.3516820817957015im\n",
      " 0.04554591183200148 + 0.9603812468617408im\n",
      " -0.8603574621072771 - 0.48462194108812623im\n"
     ]
    },
    {
     "data": {
      "text/plain": [
       "ITensor ord=1 (dim=3|id=290)\n",
       "NDTensors.Dense{ComplexF64, Vector{ComplexF64}}"
      ]
     },
     "execution_count": 162,
     "metadata": {},
     "output_type": "execute_result"
    }
   ],
   "source": [
    "@show dag(A)"
   ]
  },
  {
   "cell_type": "markdown",
   "id": "bba96edf-618d-44d5-b983-6306b8e48f73",
   "metadata": {},
   "source": [
    "It is important to have in mind that dag just apply the conjugate to all tensors, we still should think by ourselfs what index is the input and what index is the output of the operator."
   ]
  },
  {
   "cell_type": "code",
   "execution_count": 25,
   "id": "a83a833c-9b75-4e7f-8719-0b29bf93ca38",
   "metadata": {},
   "outputs": [
    {
     "data": {
      "text/plain": [
       "ITensor ord=2 (dim=2|id=841) (dim=3|id=785)\n",
       "NDTensors.Dense{ComplexF64, Vector{ComplexF64}}"
      ]
     },
     "execution_count": 25,
     "metadata": {},
     "output_type": "execute_result"
    }
   ],
   "source": [
    "A_matrix = [1.0 2.0im 3.0 + 2im; 4.0im 5.0 6.0im]\n",
    "\n",
    "j = Index(3) #input\n",
    "i = Index(2) #output\n",
    "A = ITensor(A_matrix,i,j) "
   ]
  },
  {
   "cell_type": "code",
   "execution_count": 26,
   "id": "e31e297f-5226-4eb4-9357-c991b374dd0a",
   "metadata": {},
   "outputs": [
    {
     "data": {
      "text/plain": [
       "2×3 Matrix{ComplexF64}:\n",
       " 1.0+0.0im  0.0+2.0im  3.0+2.0im\n",
       " 0.0+4.0im  5.0+0.0im  0.0+6.0im"
      ]
     },
     "execution_count": 26,
     "metadata": {},
     "output_type": "execute_result"
    }
   ],
   "source": [
    "Matrix(A, i,j)"
   ]
  },
  {
   "cell_type": "code",
   "execution_count": 16,
   "id": "00e51740-6e14-4872-a2b3-04bb4758b85c",
   "metadata": {},
   "outputs": [
    {
     "data": {
      "text/plain": [
       "(0.0 + 2.0im, 0.0 + 2.0im)"
      ]
     },
     "execution_count": 16,
     "metadata": {},
     "output_type": "execute_result"
    }
   ],
   "source": [
    "A[i=>1,j=>2], A_matrix[1, 2]"
   ]
  },
  {
   "cell_type": "code",
   "execution_count": 17,
   "id": "4e36e937-64c8-47db-8c83-da725cd3054f",
   "metadata": {},
   "outputs": [
    {
     "data": {
      "text/plain": [
       "3×2 adjoint(::Matrix{ComplexF64}) with eltype ComplexF64:\n",
       " 1.0-0.0im  0.0-4.0im\n",
       " 0.0-2.0im  5.0-0.0im\n",
       " 3.0-2.0im  0.0-6.0im"
      ]
     },
     "execution_count": 17,
     "metadata": {},
     "output_type": "execute_result"
    }
   ],
   "source": [
    "adjoint(A_matrix)"
   ]
  },
  {
   "cell_type": "code",
   "execution_count": 27,
   "id": "9d2d7402-b3bc-4f22-b39f-8278fdf20b73",
   "metadata": {},
   "outputs": [
    {
     "data": {
      "text/plain": [
       "ITensor ord=2 (dim=2|id=841) (dim=3|id=785)\n",
       "NDTensors.Dense{ComplexF64, Vector{ComplexF64}}"
      ]
     },
     "execution_count": 27,
     "metadata": {},
     "output_type": "execute_result"
    }
   ],
   "source": [
    "Adag = dag(A)"
   ]
  },
  {
   "cell_type": "code",
   "execution_count": 28,
   "id": "a0465233-683c-4d9f-ae7e-aa0fcf76e11b",
   "metadata": {},
   "outputs": [
    {
     "data": {
      "text/plain": [
       "3×2 Matrix{ComplexF64}:\n",
       " 1.0-0.0im  0.0-4.0im\n",
       " 0.0-2.0im  5.0-0.0im\n",
       " 3.0-2.0im  0.0-6.0im"
      ]
     },
     "execution_count": 28,
     "metadata": {},
     "output_type": "execute_result"
    }
   ],
   "source": [
    "Matrix(Adag, j,i) #Note that it just perform the complex conjugate, the indexes were not exchange between them, I needed to put them in reverse order in order to have the right matrix."
   ]
  },
  {
   "cell_type": "code",
   "execution_count": 29,
   "id": "d0b6fff7-3e42-4353-9acc-97099a17036a",
   "metadata": {},
   "outputs": [
    {
     "data": {
      "text/plain": [
       "0.0 - 6.0im"
      ]
     },
     "execution_count": 29,
     "metadata": {},
     "output_type": "execute_result"
    }
   ],
   "source": [
    "Adag[i=>2,j=>3]"
   ]
  },
  {
   "cell_type": "markdown",
   "id": "12c3e182-0c12-4b64-94c8-7a5573bb65e6",
   "metadata": {},
   "source": [
    "$A^{\\dagger}A$"
   ]
  },
  {
   "cell_type": "code",
   "execution_count": 30,
   "id": "d96415f8-2873-4435-97bd-5e7e427b2cd4",
   "metadata": {},
   "outputs": [
    {
     "data": {
      "text/plain": [
       "3×3 Matrix{ComplexF64}:\n",
       " 17.0+0.0im    0.0-18.0im  27.0+2.0im\n",
       "  0.0+18.0im  29.0+0.0im    4.0+24.0im\n",
       " 27.0-2.0im    4.0-24.0im  49.0+0.0im"
      ]
     },
     "execution_count": 30,
     "metadata": {},
     "output_type": "execute_result"
    }
   ],
   "source": [
    "adjoint(A_matrix)*A_matrix"
   ]
  },
  {
   "cell_type": "code",
   "execution_count": 36,
   "id": "ecdf27eb-a0a3-4c31-8782-a3d3a24b464d",
   "metadata": {},
   "outputs": [
    {
     "data": {
      "text/plain": [
       "ITensor ord=2 (dim=2|id=841) (dim=3|id=785)'\n",
       "NDTensors.Dense{ComplexF64, Vector{ComplexF64}}"
      ]
     },
     "execution_count": 36,
     "metadata": {},
     "output_type": "execute_result"
    }
   ],
   "source": [
    "Adag = dag(A)\n",
    "Adag = Adag*delta(j, j') #We just want to contract the output of A (i) with the input of Adag (i). We need to rename the output of Adag in order to avoid that contraction. "
   ]
  },
  {
   "cell_type": "code",
   "execution_count": 37,
   "id": "2a52b703-0e8c-4e0c-bb23-79818f3a4ece",
   "metadata": {},
   "outputs": [
    {
     "data": {
      "text/plain": [
       "3×3 Matrix{ComplexF64}:\n",
       " 17.0+0.0im    0.0+18.0im  27.0-2.0im\n",
       "  0.0-18.0im  29.0+0.0im    4.0-24.0im\n",
       " 27.0+2.0im    4.0+24.0im  49.0+0.0im"
      ]
     },
     "execution_count": 37,
     "metadata": {},
     "output_type": "execute_result"
    }
   ],
   "source": [
    "Matrix(A*Adag, j, j')"
   ]
  },
  {
   "cell_type": "markdown",
   "id": "e1c5de21-8f2b-4deb-9c7f-f9468ea73c61",
   "metadata": {},
   "source": [
    "$AA^{\\dagger}$"
   ]
  },
  {
   "cell_type": "code",
   "execution_count": 38,
   "id": "87265a9d-ddd0-4fe0-ab41-4668292916cd",
   "metadata": {},
   "outputs": [
    {
     "data": {
      "text/plain": [
       "2×2 Matrix{ComplexF64}:\n",
       " 18.0+0.0im   12.0-12.0im\n",
       " 12.0+12.0im  77.0+0.0im"
      ]
     },
     "execution_count": 38,
     "metadata": {},
     "output_type": "execute_result"
    }
   ],
   "source": [
    "A_matrix*adjoint(A_matrix)"
   ]
  },
  {
   "cell_type": "code",
   "execution_count": 39,
   "id": "24448d8f-3115-4c01-a0e9-cadd2dbc4066",
   "metadata": {},
   "outputs": [
    {
     "data": {
      "text/plain": [
       "ITensor ord=2 (dim=3|id=785) (dim=2|id=841)'\n",
       "NDTensors.Dense{ComplexF64, Vector{ComplexF64}}"
      ]
     },
     "execution_count": 39,
     "metadata": {},
     "output_type": "execute_result"
    }
   ],
   "source": [
    "Adag = dag(A)\n",
    "Adag = Adag*delta(i, i')"
   ]
  },
  {
   "cell_type": "code",
   "execution_count": 40,
   "id": "fd1a0ad6-abff-4977-91f3-4cd87c9cb298",
   "metadata": {},
   "outputs": [
    {
     "data": {
      "text/plain": [
       "2×2 Matrix{ComplexF64}:\n",
       " 18.0+0.0im   12.0-12.0im\n",
       " 12.0+12.0im  77.0+0.0im"
      ]
     },
     "execution_count": 40,
     "metadata": {},
     "output_type": "execute_result"
    }
   ],
   "source": [
    "Matrix(A*Adag, i, i')"
   ]
  },
  {
   "cell_type": "markdown",
   "id": "fcf63151-736a-48bd-95ae-075f97fd41b5",
   "metadata": {},
   "source": [
    "So, if we want to use dag function we should be careful with what is the input and what is the output."
   ]
  },
  {
   "cell_type": "markdown",
   "id": "d681b815-dcb9-4a1a-bb01-6b66467d931c",
   "metadata": {},
   "source": [
    "#### Descomposition of ITensors (QR and SVD):\n",
    "\n",
    "QR and SVD are two very useful and famous ways to descompose Matrixes (2-rank tensors). These descompositions just exist for Matrixes, so if we have a tensor of rank i x j x k x l is necessary to reshape the tensor as a matrix (could be something like ij x kl or ijk x l or i x jkl, etc.), apply the algorithm to build the QR or the SVD descomposition, and finally reshape again to recover the structure i x j x k x l. **qr()** and **svd()** do this large process for us. \n",
    "\n",
    "We just need to specify which index(es) we want for Q (for QR) or U (For SVD) matrix at the end of the process."
   ]
  },
  {
   "cell_type": "code",
   "execution_count": 67,
   "id": "b16faf85",
   "metadata": {},
   "outputs": [
    {
     "data": {
      "text/plain": [
       "ITensor ord=2 (dim=9|id=433|\"ij\") (dim=9|id=534|\"kl\")\n",
       "NDTensors.Dense{Float64, Vector{Float64}}"
      ]
     },
     "metadata": {},
     "output_type": "display_data"
    }
   ],
   "source": [
    "A_reshaped_ij_kl"
   ]
  },
  {
   "cell_type": "code",
   "execution_count": 77,
   "id": "080600e7",
   "metadata": {},
   "outputs": [
    {
     "data": {
      "text/plain": [
       "((dim=9|id=433|\"ij\"), (dim=9|id=534|\"kl\"))"
      ]
     },
     "metadata": {},
     "output_type": "display_data"
    }
   ],
   "source": [
    "ind(A_reshaped_ij_kl, 1), ind(A_reshaped_ij_kl, 2)"
   ]
  },
  {
   "cell_type": "code",
   "execution_count": 168,
   "id": "bc19d457-a0b9-40d1-a8e8-48b681e47f0b",
   "metadata": {},
   "outputs": [
    {
     "name": "stdout",
     "output_type": "stream",
     "text": [
      "Q = ITensor ord=2\n",
      "Dim 1: (dim=9|id=362|\"ij\")\n",
      "Dim 2: (dim=9|id=746|\"Link,qr\")\n",
      "NDTensors.Dense{Float64, Vector{Float64}}\n",
      " 9×9\n",
      " -0.3011412606969692    -0.214645431973191    -0.30039863992490307  -0.5134681712258802    0.03665486934841186   0.5806949641773321   -0.11043979167925272   -0.033792832455164956   0.3968163932207681\n",
      "  0.14641118204599177   -0.6045003044813446   -0.584189168130781    -0.1450244199767755   -0.08710506733584016  -0.32925892387573996   0.06319448069624398   -0.10212002044652835   -0.34700620805550986\n",
      "  0.039955950018137426   0.27815440993312607  -0.4355097662006284    0.3587858339460369   -0.4075561173326744    0.44084300624885     -0.21703095928856053    0.2966229027487442    -0.3272697458333284\n",
      "  0.1996397137433015    -0.10280717798586797   0.3244150190097117   -0.38467725820384446   0.2820821362045369    0.1272495856825358   -0.5296018656549186     0.2790539447102253    -0.4921797867925659\n",
      "  0.7236179120372943     0.19864890053482198  -0.09356849555273494  -0.33702434457924385  -0.2937544547803319   -0.14382822568308956  -0.024900763471781773   0.2186345208651656     0.3989685696319547\n",
      " -0.37018604010268       0.13803833532064716  -0.12325927453452634  -0.01205033730427725  -0.20435979362096746  -0.4924990298410554   -0.7002315212959838    -0.05947975627559464    0.22447585580814727\n",
      " -0.24530981782559363   -0.4489400814670532    0.2897478710385967    0.07960085517905166  -0.34798731671264677  -0.08432483943681307   0.1377265675487076     0.6924171856808721     0.14618397326729732\n",
      "  0.35357589249109755   -0.48451170899975765   0.14137953954883717   0.5163255674346836    0.05235807066847369   0.23822070116944893  -0.38213206941078137   -0.2396458403339321     0.30117554517283956\n",
      "  0.023912512451813233   0.07584700519493767  -0.3816803595438415    0.2279374474029424    0.7024995817417847   -0.12940352585281986  -0.01706397695766062    0.48411022760225725    0.22613098003562226\n",
      "R = ITensor ord=2\n",
      "Dim 1: (dim=9|id=746|\"Link,qr\")\n",
      "Dim 2: (dim=9|id=411|\"kl\")\n",
      "NDTensors.Dense{Float64, Vector{Float64}}\n",
      " 9×9\n",
      " -4.004330510699914  1.0111639593389437   0.28077599998012753   0.9390729584683265  -0.7608430825534709    0.6699504327399023   -0.13220450690223723  -0.6152063863626828  -0.7305881519380577\n",
      "  0.0                3.336511469831564    0.06825953203228186   0.4307894635332544  -0.24059921869348466  -0.7295375627840164   -1.0374193014005226   -1.0927748141261078  -0.2831455595498853\n",
      "  0.0                0.0                 -2.157301956496136    -1.7491004476921537  -0.20806829330658494  -1.0529057076751018   -0.8306283579554539    1.9792298175680547  -0.5743104536687822\n",
      "  0.0                0.0                  0.0                  -2.0436370990059896  -1.135016390712827     0.6582193704291874    1.2357000272931131   -1.4492710778257463  -1.5003574190592444\n",
      "  0.0                0.0                  0.0                   0.0                  2.4792015764990487   -0.12016314820140317   0.05853154949843098   1.0802022949102152  -0.9550140763312289\n",
      "  0.0                0.0                  0.0                   0.0                  0.0                  -1.5771506778292932   -0.10032140959311553  -0.7289641451292124  -1.1392048061354831\n",
      "  0.0                0.0                  0.0                   0.0                  0.0                   0.0                   2.6058919855366036    1.2355261397002595   0.6594631287198753\n",
      "  0.0                0.0                  0.0                   0.0                  0.0                   0.0                   0.0                  -0.8381100920067057  -1.0093913685821123\n",
      "  0.0                0.0                  0.0                   0.0                  0.0                   0.0                   0.0                   0.0                 -0.6189378501646527\n"
     ]
    },
    {
     "data": {
      "text/plain": [
       "ITensor ord=2 (dim=9|id=746|\"Link,qr\") (dim=9|id=411|\"kl\")\n",
       "NDTensors.Dense{Float64, Vector{Float64}}"
      ]
     },
     "execution_count": 168,
     "metadata": {},
     "output_type": "execute_result"
    }
   ],
   "source": [
    "Q,R = qr(A_reshaped_ij_kl, ind(A_reshaped_ij_kl, 1)); #Q will have the index ind(A_reshaped_ij_kl, 1)\n",
    "@show Q\n",
    "@show R"
   ]
  },
  {
   "cell_type": "code",
   "execution_count": 169,
   "id": "be7ebf45-2e50-4761-a48c-9f274cffbfdb",
   "metadata": {},
   "outputs": [
    {
     "name": "stdout",
     "output_type": "stream",
     "text": [
      "U = ITensor ord=2\n",
      "Dim 1: (dim=9|id=362|\"ij\")\n",
      "Dim 2: (dim=9|id=903|\"Link,u\")\n",
      "NDTensors.Dense{Float64, Vector{Float64}}\n",
      " 9×9\n",
      " -0.22778748056000453   0.0806142302216449    -0.3461524588093249    -0.31640564924727466   0.338150337560036    -0.21309738735486677   0.636925202574686     -0.14314204090135818  -0.3684571143741423\n",
      " -0.0499690417667238   -0.8179418452953197    -0.33953564304628014   -0.1446040971867421    0.00545821221782157  -0.30993122770937925  -0.11174360862086548    0.20099289209062746   0.20810454110646642\n",
      "  0.5247030637783926    0.005646615111250312   0.4206176710666138    -0.5497414727766837    0.06406598343179698  -0.07845984293808518   0.31088853612975015    0.1827235906564375    0.32437618412722835\n",
      "  0.04718805573190371   0.4209515989129642    -0.2937394983749461     0.3198410877727479    0.26247897773954465  -0.47242283507594746   0.025143419847617796   0.15601704183506063   0.5611949453395441\n",
      "  0.7105940784684319   -0.09525955044811882   -0.29483462504194297    0.23625054960200864  -0.19051673430200378  -0.11663805185823996   0.08472702230464085   -0.5142994463815749   -0.1471606106801576\n",
      " -0.03024605903691624   0.2675916792562561    -0.01205668193789159   -0.48693928971517847  -0.1386468545392593   -0.5217229239660995   -0.564345834888711     -0.16560555697724638  -0.22999011312343726\n",
      " -0.3632894267219626   -0.17273886021628315    0.4231342159393219     0.07600657830843185  -0.07345760088457734  -0.24672829646990257   0.1647305215893934    -0.6653110812309089    0.34251520112259864\n",
      "  0.12959262946665817  -0.16978440358886787    0.4848352957568476     0.40344315587243434   0.3308714721105501   -0.44215993762904476  -0.001199170678255479   0.2238307254877244   -0.44884784668142413\n",
      "  0.11594703618951155  -0.0888549628408757    -0.022610967010557127  -0.11399797305587342   0.8013946385096977    0.29498025066424355  -0.36297838280092276   -0.31099008987290083   0.08625212689237394\n",
      "S = ITensor ord=2\n",
      "Dim 1: (dim=9|id=903|\"Link,u\")\n",
      "Dim 2: (dim=9|id=761|\"Link,v\")\n",
      "NDTensors.Diag{Float64, Vector{Float64}}\n",
      " 9×9\n",
      " 5.054858039294782  0.0                0.0                0.0                0.0                 0.0                 0.0                0.0                  0.0\n",
      " 0.0                3.888030743239331  0.0                0.0                0.0                 0.0                 0.0                0.0                  0.0\n",
      " 0.0                0.0                3.691680581546606  0.0                0.0                 0.0                 0.0                0.0                  0.0\n",
      " 0.0                0.0                0.0                3.497773172564399  0.0                 0.0                 0.0                0.0                  0.0\n",
      " 0.0                0.0                0.0                0.0                2.6771048081111055  0.0                 0.0                0.0                  0.0\n",
      " 0.0                0.0                0.0                0.0                0.0                 2.5496041045788016  0.0                0.0                  0.0\n",
      " 0.0                0.0                0.0                0.0                0.0                 0.0                 1.660727657809525  0.0                  0.0\n",
      " 0.0                0.0                0.0                0.0                0.0                 0.0                 0.0                0.48733173458108137  0.0\n",
      " 0.0                0.0                0.0                0.0                0.0                 0.0                 0.0                0.0                  0.22208087197112297\n",
      "V = ITensor ord=2\n",
      "Dim 1: (dim=9|id=411|\"kl\")\n",
      "Dim 2: (dim=9|id=761|\"Link,v\")\n",
      "NDTensors.Dense{Float64, Vector{Float64}}\n",
      " 9×9\n",
      " -0.5979120157172048    0.25494440852967926   0.14003885536880842     -0.6737151411310256    -0.032255338341668105   0.09216042476964073  -0.07230123860938596   -0.2879362620190173    -0.07957943693595705\n",
      "  0.45875687763023076   0.4561099928642687   -0.08965621517092029     -0.10554510294238395   -0.2518117236275625     0.6467796944781399   -0.2775742595073596    -0.025648898552268373  -0.053752609972928245\n",
      "  0.18032702222547656  -0.29770108333293893  -0.15860677768196454     -0.3797669861328522     0.2330400238829575     0.04564953047882589   0.006232842059671097   0.3602587606625988    -0.7233674039075869\n",
      "  0.23870785426995375  -0.13586881248911825  -0.6407880184878949      -0.20625074505786747    0.042418279648545     -0.04250480368904025   0.35496427907619565   -0.5775780168700285     0.09059579378469554\n",
      " -0.24429687902214428   0.13151034153171504  -0.4430889768042469       0.0427062786841748     0.6616422509259221     0.21558889671564155  -0.24651511686505345    0.2761399269599651     0.3218701518686258\n",
      "  0.09218976483208374  -0.429893195850551    -0.00047286244618079815  -0.033381737328930156  -0.012879073958658407  -0.1354733941462036   -0.8195668249963217    -0.33840019998115056    0.02923929524210756\n",
      " -0.14995600526124123  -0.611203669123472     0.22489409211082653      0.024472608439924264   0.016980820703725655   0.6857824839107033    0.22107272859280863   -0.0629259887295347     0.17131320792724586\n",
      " -0.4720656527899185    0.05345581553674819  -0.3410629542813424       0.5443544062224879    -0.21712153776464582    0.17419506212228245  -0.07367028959823102   -0.1758007142428528    -0.4978272314342796\n",
      " -0.17038595058114253  -0.20334742341843765  -0.4163605782133124      -0.21987953860804854   -0.6277555548324989    -0.0617964168247859   -0.07018993688390669    0.47688423859179974    0.27870104526632555\n"
     ]
    },
    {
     "data": {
      "text/plain": [
       "ITensor ord=2 (dim=9|id=411|\"kl\") (dim=9|id=761|\"Link,v\")\n",
       "NDTensors.Dense{Float64, Vector{Float64}}"
      ]
     },
     "execution_count": 169,
     "metadata": {},
     "output_type": "execute_result"
    }
   ],
   "source": [
    "U,S,V = svd(A_reshaped_ij_kl, ind(A_reshaped_ij_kl, 1)); #U will have the index ind(A_reshaped_ij_kl, 1) \n",
    "@show U\n",
    "@show S\n",
    "@show V"
   ]
  },
  {
   "cell_type": "markdown",
   "id": "c74a3029-2d04-401b-b3ff-17b542c1d8b2",
   "metadata": {},
   "source": [
    "Consider the following tensor in order to understand better how works these two functions:"
   ]
  },
  {
   "cell_type": "code",
   "execution_count": 175,
   "id": "610b3a6c-c10d-475e-b68c-b5d7a7801fb1",
   "metadata": {},
   "outputs": [],
   "source": [
    "i = Index(3, \"i\")\n",
    "j = Index(3, \"j\")\n",
    "k = Index(3, \"k\")\n",
    "\n",
    "A = randomITensor(i,j,k);"
   ]
  },
  {
   "cell_type": "code",
   "execution_count": 176,
   "id": "11a8598e-51aa-4e08-9582-13404fbd09e7",
   "metadata": {},
   "outputs": [
    {
     "name": "stdout",
     "output_type": "stream",
     "text": [
      "inds(Q) = ((dim=3|id=755|\"i\"), (dim=3|id=431|\"j\"), (dim=3|id=430|\"Link,qr\"))\n",
      "inds(R) = ((dim=3|id=430|\"Link,qr\"), (dim=3|id=837|\"k\"))\n"
     ]
    }
   ],
   "source": [
    "Q,R = qr(A,(i,j))\n",
    "\n",
    "@show inds(Q) #Has i,j\n",
    "@show inds(R); #Has k"
   ]
  },
  {
   "cell_type": "markdown",
   "id": "d6d24a38-3715-4fbe-92fb-5a198e225b6b",
   "metadata": {},
   "source": [
    "or "
   ]
  },
  {
   "cell_type": "code",
   "execution_count": 177,
   "id": "13bbb8f7-6a33-4cea-8713-651a65a246cf",
   "metadata": {},
   "outputs": [
    {
     "name": "stdout",
     "output_type": "stream",
     "text": [
      "inds(Q) = ((dim=3|id=755|\"i\"), (dim=3|id=97|\"Link,qr\"))\n",
      "inds(R) = ((dim=3|id=97|\"Link,qr\"), (dim=3|id=431|\"j\"), (dim=3|id=837|\"k\"))\n"
     ]
    }
   ],
   "source": [
    "Q,R = qr(A,(i))\n",
    "\n",
    "@show inds(Q) #Has i\n",
    "@show inds(R); #Has j,k"
   ]
  },
  {
   "cell_type": "markdown",
   "id": "f54f450e-297d-4131-8c5a-977c2dcd6834",
   "metadata": {},
   "source": [
    "In any case,"
   ]
  },
  {
   "cell_type": "code",
   "execution_count": 178,
   "id": "0eaaf72e-6c8a-4cae-9142-ea33a0cb9922",
   "metadata": {},
   "outputs": [
    {
     "data": {
      "text/plain": [
       "true"
      ]
     },
     "execution_count": 178,
     "metadata": {},
     "output_type": "execute_result"
    }
   ],
   "source": [
    "A ≈ Q*R"
   ]
  },
  {
   "cell_type": "markdown",
   "id": "f55f87cd-1850-4c20-afd6-e4ce379ca1d8",
   "metadata": {},
   "source": [
    "With SVD descomposition is exactly the same:"
   ]
  },
  {
   "cell_type": "code",
   "execution_count": 179,
   "id": "4a25bcc8-566a-4c20-87ad-1db02d20f236",
   "metadata": {},
   "outputs": [
    {
     "name": "stdout",
     "output_type": "stream",
     "text": [
      "inds(U) = ((dim=3|id=755|\"i\"), (dim=3|id=431|\"j\"), (dim=3|id=494|\"Link,u\"))\n",
      "inds(S) = ((dim=3|id=494|\"Link,u\"), (dim=3|id=619|\"Link,v\"))\n",
      "inds(V) = ((dim=3|id=837|\"k\"), (dim=3|id=619|\"Link,v\"))\n"
     ]
    }
   ],
   "source": [
    "U,S,V = svd(A,(i,j))\n",
    "\n",
    "@show inds(U) # Has i,j\n",
    "@show inds(S) \n",
    "@show inds(V); # Has k"
   ]
  },
  {
   "cell_type": "code",
   "execution_count": 180,
   "id": "9d04f2af-bdb3-4e4d-9069-b6757fb9c7cc",
   "metadata": {},
   "outputs": [
    {
     "name": "stdout",
     "output_type": "stream",
     "text": [
      "inds(U) = ((dim=3|id=755|\"i\"), (dim=3|id=524|\"Link,u\"))\n",
      "inds(S) = ((dim=3|id=524|\"Link,u\"), (dim=3|id=843|\"Link,v\"))\n",
      "inds(V) = ((dim=3|id=431|\"j\"), (dim=3|id=837|\"k\"), (dim=3|id=843|\"Link,v\"))\n"
     ]
    }
   ],
   "source": [
    "U,S,V = svd(A,(i))\n",
    "\n",
    "@show inds(U) # Has i\n",
    "@show inds(S) \n",
    "@show inds(V); # Has j,k"
   ]
  },
  {
   "cell_type": "markdown",
   "id": "017f9a24-9d74-4dd4-aee5-d813f6ef0776",
   "metadata": {},
   "source": [
    "In any case,"
   ]
  },
  {
   "cell_type": "code",
   "execution_count": 181,
   "id": "a4e98f86-2d20-4639-80ce-57dfccecf4eb",
   "metadata": {},
   "outputs": [
    {
     "data": {
      "text/plain": [
       "true"
      ]
     },
     "execution_count": 181,
     "metadata": {},
     "output_type": "execute_result"
    }
   ],
   "source": [
    " U*S*V ≈ A # true"
   ]
  },
  {
   "cell_type": "markdown",
   "id": "e9dd4148-7ccf-45c5-a029-b9317d26b9e5",
   "metadata": {},
   "source": [
    "Until now we have been expecting the whole SVD, however many applications use the SVD to approximate matrices to low-size matrixes. We also can do that with ITensors:"
   ]
  },
  {
   "cell_type": "code",
   "execution_count": 223,
   "id": "f2400a62-3846-452a-9375-81855b6d744a",
   "metadata": {},
   "outputs": [
    {
     "name": "stdout",
     "output_type": "stream",
     "text": [
      "error = (norm(U * S * V - A) / norm(A)) ^ 2 = 7.279253354735523e-30\n",
      "S = ITensor ord=2\n",
      "Dim 1: (dim=5|id=18|\"Link,u\")\n",
      "Dim 2: (dim=5|id=611|\"Link,v\")\n",
      "NDTensors.Diag{Float64, Vector{Float64}}\n",
      " 5×5\n",
      " 19.794809569299527   0.0                 0.0                 0.0                0.0\n",
      "  0.0                19.115345381397006   0.0                 0.0                0.0\n",
      "  0.0                 0.0                18.569246795600904   0.0                0.0\n",
      "  0.0                 0.0                 0.0                18.46905068248344   0.0\n",
      "  0.0                 0.0                 0.0                 0.0               18.058125088066994\n",
      "error = (norm(U * S * V - A) / norm(A)) ^ 2 = 0.7805685400451485\n",
      "S = ITensor ord=2\n",
      "Dim 1: (dim=10|id=88|\"Link,u\")\n",
      "Dim 2: (dim=10|id=999|\"Link,v\")\n",
      "NDTensors.Diag{Float64, Vector{Float64}}\n",
      " 10×10\n",
      " 19.794809569299527   0.0                 0.0                 0.0                0.0                 0.0                0.0                 0.0                 0.0                0.0\n",
      "  0.0                19.115345381397006   0.0                 0.0                0.0                 0.0                0.0                 0.0                 0.0                0.0\n",
      "  0.0                 0.0                18.569246795600904   0.0                0.0                 0.0                0.0                 0.0                 0.0                0.0\n",
      "  0.0                 0.0                 0.0                18.46905068248344   0.0                 0.0                0.0                 0.0                 0.0                0.0\n",
      "  0.0                 0.0                 0.0                 0.0               18.058125088066994   0.0                0.0                 0.0                 0.0                0.0\n",
      "  0.0                 0.0                 0.0                 0.0                0.0                17.61190773818751   0.0                 0.0                 0.0                0.0\n",
      "  0.0                 0.0                 0.0                 0.0                0.0                 0.0               17.508766915278674   0.0                 0.0                0.0\n",
      "  0.0                 0.0                 0.0                 0.0                0.0                 0.0                0.0                17.196576288959825   0.0                0.0\n",
      "  0.0                 0.0                 0.0                 0.0                0.0                 0.0                0.0                 0.0                16.75918211020827   0.0\n",
      "  0.0                 0.0                 0.0                 0.0                0.0                 0.0                0.0                 0.0                 0.0               16.402680329978672\n",
      "error = (norm(U * S * V - A) / norm(A)) ^ 2 = 0.5991970531477527\n",
      "inds(S) = ((dim=32|id=381|\"Link,u\"), (dim=32|id=172|\"Link,v\"))\n",
      "error = (norm(U * S * V - A) / norm(A)) ^ 2 = 0.09229770270769026\n",
      "inds(S) = ((dim=5|id=23|\"Link,u\"), (dim=5|id=164|\"Link,v\"))\n",
      "error = (norm(U * S * V - A) / norm(A)) ^ 2 = 0.7805685400451485\n"
     ]
    }
   ],
   "source": [
    "i = Index(10)\n",
    "j = Index(40)\n",
    "k = Index(20)\n",
    "\n",
    "A = randomITensor(i,j,k) #Is very very big.\n",
    "\n",
    "U, S, V = svd(A, (i,k));\n",
    "@show error = (norm(U*S*V - A)/norm(A))^2; #it contains all the singular values\n",
    "\n",
    "U, S, V = svd(A, (i,k), maxdim=5); #We are truncating and getting a reduced SVD with just 5 singular values\n",
    "@show S\n",
    "@show error = (norm(U*S*V - A)/norm(A))^2;\n",
    "\n",
    "U, S, V = svd(A, (i,k), maxdim=10); #We are truncating and getting a reduced SVD with just 5 singular values\n",
    "@show S\n",
    "@show error = (norm(U*S*V - A)/norm(A))^2;\n",
    "\n",
    "U, S, V = svd(A, (i,k), cutoff = 0.1); #It will take the necessary singular values to have an error of 0.1\n",
    "@show inds(S) #the number of singular values is the dimension of the index.\n",
    "@show error = (norm(U*S*V - A)/norm(A))^2;\n",
    "\n",
    "U, S, V = svd(A, (i,k), maxdim = 5, cutoff = 0.1); #It will take the necessary singular values to have an error of 0.1 and then take just 5 singular values, the error could be bigger than 0.1. \n",
    "@show inds(S) #the number of singular values is the dimension of the index.\n",
    "@show error = (norm(U*S*V - A)/norm(A))^2;"
   ]
  }
 ],
 "metadata": {
  "kernelspec": {
   "display_name": "Julia 1.10.3",
   "language": "julia",
   "name": "julia-1.10"
  },
  "language_info": {
   "file_extension": ".jl",
   "mimetype": "application/julia",
   "name": "julia",
   "version": "1.10.3"
  }
 },
 "nbformat": 4,
 "nbformat_minor": 5
}
